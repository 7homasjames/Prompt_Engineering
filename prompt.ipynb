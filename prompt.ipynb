{
 "cells": [
  {
   "cell_type": "code",
   "execution_count": 1,
   "metadata": {},
   "outputs": [],
   "source": [
    "import openai\n",
    "import os\n",
    "\n",
    "from dotenv import load_dotenv, find_dotenv\n",
    "_ = load_dotenv(find_dotenv())\n",
    "\n",
    "openai.api_key  = os.getenv('OPENAI_API_KEY')"
   ]
  },
  {
   "cell_type": "code",
   "execution_count": 8,
   "metadata": {},
   "outputs": [],
   "source": [
    "def get_completion(prompt, model=\"gpt-3.5-turbo\"):\n",
    "    messages = [{\"role\": \"user\", \"content\": prompt}]\n",
    "    response = openai.ChatCompletion.create(\n",
    "        model=model,\n",
    "        messages=messages,\n",
    "        temperature=.4, # this is the degree of randomness of the model's output\n",
    "    )\n",
    "    return response.choices[0].message[\"content\"]"
   ]
  },
  {
   "cell_type": "code",
   "execution_count": 17,
   "metadata": {},
   "outputs": [
    {
     "name": "stdout",
     "output_type": "stream",
     "text": [
      "Policyholder Details:\n",
      "- Name: Sarah Johnson\n",
      "- Policy Number: 123456789\n",
      "- Type of Policy: Homeowners Insurance\n",
      "- Coverage Details: Property damage and liability coverage\n",
      "- Demographics: 35-year-old female, married, two children\n",
      "\n",
      "Claim Specifics:\n",
      "- Claim Number: 987654321\n",
      "- Date of Loss: June 15, 2021\n",
      "- Type of Loss: Water damage\n",
      "- Location: 123 Main Street, Anytown, USA\n",
      "- Description: A pipe burst in the basement causing significant water damage to the property\n",
      "- Estimated Loss Amount: $10,000\n",
      "- Actual Loss Amount: $12,500\n",
      "- Status: Under review\n",
      "- Settlement Date: Pending\n",
      "\n",
      "Financial Information:\n",
      "- Premium Amount: $1,200 annually\n",
      "- Payment History: Up to date\n",
      "- Claim History: First claim filed\n",
      "- Deductible: $1,000\n",
      "- Reimbursement Amount: $11,500\n",
      "\n",
      "Incident Type Impact:\n",
      "The incident of water damage in Sarah Johnson's home has led to the filing of an insurance claim under her homeowners policy. The claim process involves assessing the extent of the damage, estimating the cost of repairs, and determining the coverage provided by the policy. In this case, the water damage has resulted in a significant financial loss for Sarah, with the actual amount exceeding the initial estimate. The insurance company is currently reviewing the claim to verify the details and assess the reimbursement amount. The incident type of water damage has necessitated a thorough investigation into the cause of the loss and the extent of the damage to ensure that Sarah receives the appropriate compensation for her claim.\n"
     ]
    }
   ],
   "source": [
    "text = f\"\"\"\n",
    "An insurance claim is a formal request made by a policyholder to their insurance company for \n",
    "coverage or compensation for a covered loss or policy event. The process involves gathering and processing various details, \n",
    "including the policyholder's information, such as policy number, type, coverage details, and demographics.\n",
    "Claim details include the claim number, date of loss, type of loss, location, description, estimated and actual loss amounts, \n",
    "status, and settlement date. Financial information encompasses the premium amount, payment history, claim history, deductible, \n",
    "and reimbursement amounts. For auto claims, specific details like the vehicle's VIN, make, model, year, value, and damage details are required. \n",
    "In the case of home or property claims, information about the property address, type, value, and damage details is necessary. \n",
    "Health claims involve patient information, diagnosis codes, treatment details, provider information, and payment details. \n",
    "Fraud indicators are identified through potential red flags, anomalies, and suspicious claim patterns. \n",
    "This comprehensive approach is used to evaluate the claim, determine coverage, and decide on the appropriate settlement.\n",
    "\"\"\"\n",
    "prompt = f\"\"\"\n",
    "Create a detailed description of an insurance claim involving a specific incident type, based on the structured information provided below. \n",
    "Ensure that the description covers all relevant aspects of the claim, including policyholder details, claim specifics, financial information, and any other pertinent data. \n",
    "The incident type should be clearly defined and integrated into the narrative, illustrating how it impacts the claim process and outcome.\n",
    "```{text}```\n",
    "\"\"\"\n",
    "response_claim = get_completion(prompt)\n",
    "print(response_claim)"
   ]
  },
  {
   "cell_type": "markdown",
   "metadata": {},
   "source": [
    "### Policy Summarization"
   ]
  },
  {
   "cell_type": "code",
   "execution_count": 18,
   "metadata": {},
   "outputs": [
    {
     "name": "stdout",
     "output_type": "stream",
     "text": [
      "Summary:\n",
      "Policyholder Sarah Johnson filed her first homeowners insurance claim (Claim Number: 987654321) on June 15, 2021, due to water damage at her property on 123 Main Street. The estimated loss amount was $10,000, but the actual loss amounted to $12,500. The claim is currently under review, with a pending settlement date. Sarah's reimbursement amount is $11,500, with a $1,000 deductible. The incident type of water damage has led to a thorough investigation to determine the cause and extent of the damage for proper compensation.\n"
     ]
    }
   ],
   "source": [
    "\n",
    "prompt = f\"\"\"\n",
    "Based on the detailed insurance claim description provided below, create a concise summary that highlights the most important aspects of the claim. \n",
    "The summary should include the incident type, key claim details (such as dates, amounts, and status), relevant policyholder information, \n",
    "and the final outcome or resolution of the claim. The goal is to provide a clear and quick overview of the claim in a few sentences\n",
    "```{response_claim}```\n",
    "\"\"\"\n",
    "response_summary = get_completion(prompt)\n",
    "print(response_summary)"
   ]
  },
  {
   "cell_type": "markdown",
   "metadata": {},
   "source": [
    "### Claim Processing"
   ]
  },
  {
   "cell_type": "code",
   "execution_count": 19,
   "metadata": {},
   "outputs": [
    {
     "name": "stdout",
     "output_type": "stream",
     "text": [
      "Steps to Process the Insurance Claim for Sarah Johnson:\n",
      "\n",
      "1. Verify Policyholder Information:\n",
      "- Confirm Sarah Johnson's name, policy number (123456789), type of policy (Homeowners Insurance), coverage details (Property damage and liability coverage), and demographics (35-year-old female, married, two children).\n",
      "\n",
      "2. Assess the Incident and Damages:\n",
      "- Review the details of the claim, including the date of loss (June 15, 2021), type of loss (Water damage), location (123 Main Street, Anytown, USA), and description of the incident (pipe burst in the basement causing significant water damage).\n",
      "\n",
      "3. Calculate Estimated and Actual Loss Amounts:\n",
      "- Determine the estimated loss amount ($10,000) and the actual loss amount ($12,500) to assess the financial impact of the incident on Sarah Johnson.\n",
      "\n",
      "4. Check Policy Coverage and Deductibles:\n",
      "- Review Sarah's policy coverage to determine the extent of coverage for water damage and liability. Confirm the deductible amount ($1,000) that Sarah is responsible for before reimbursement.\n",
      "\n",
      "5. Determine Claim Status:\n",
      "- Evaluate the status of the claim, which is currently under review, to ensure that all necessary information and documentation have been provided for processing.\n",
      "\n",
      "6. Finalize Claim Settlement:\n",
      "- Calculate the reimbursement amount ($11,500) based on the actual loss amount, deductible, and policy coverage. Once the claim is approved, finalize the settlement and communicate the details to Sarah Johnson.\n",
      "\n",
      "7. Communicate Settlement Details:\n",
      "- Inform Sarah Johnson of the claim settlement, including the reimbursement amount, any deductible that applies, and the expected settlement date.\n",
      "\n",
      "8. Process Payment:\n",
      "- Process the payment for the approved claim settlement to reimburse Sarah Johnson for the water damage incident.\n",
      "\n",
      "9. Update Claim History:\n",
      "- Record the details of the claim, including the incident type, estimated and actual loss amounts, reimbursement amount, and settlement date, in Sarah Johnson's claim history for future reference.\n",
      "\n",
      "10. Close the Claim:\n",
      "- Once the claim settlement has been processed and communicated to Sarah Johnson, close the claim file and ensure that all necessary documentation is updated and filed accordingly.\n"
     ]
    }
   ],
   "source": [
    "prompt = f\"\"\"\n",
    "Based on the detailed insurance claim description provided below, outline the steps involved in processing this claim. \n",
    "Include key actions such as verifying the policyholder's information, assessing the incident and damages, \n",
    "calculating the estimated and actual loss amounts, checking the policy coverage and deductibles, determining the claim status, and finalizing the claim settlement. \n",
    "The goal is to provide a clear and comprehensive sequence of actions necessary to process this claim effectively.\n",
    "```{response_claim}```\n",
    "\"\"\"\n",
    "response_processing = get_completion(prompt)\n",
    "print(response_processing)"
   ]
  },
  {
   "cell_type": "markdown",
   "metadata": {},
   "source": [
    "### Policy Checking"
   ]
  },
  {
   "cell_type": "code",
   "execution_count": 20,
   "metadata": {},
   "outputs": [
    {
     "name": "stdout",
     "output_type": "stream",
     "text": [
      "Policy Check Result:\n",
      "\n",
      "Based on the provided information, Sarah Johnson's homeowners insurance policy covers property damage, which includes incidents like water damage. The incident type of water damage is typically covered under most homeowners insurance policies, so Sarah meets the necessary condition in terms of incident type.\n",
      "\n",
      "However, there are a few potential issues or gaps in coverage that could affect the claim's outcome:\n",
      "\n",
      "1. Coverage Limits: The estimated loss amount of $10,000 and the actual loss amount of $12,500 may exceed the coverage limits of Sarah's policy. It is important to check the policy's coverage limits to ensure that the full amount of the loss is covered.\n",
      "\n",
      "2. Deductible: Sarah's policy has a deductible of $1,000, which means she is responsible for paying the first $1,000 of the claim amount. The reimbursement amount of $11,500 indicates that Sarah will receive $10,500 after deducting the deductible. \n",
      "\n",
      "3. Settlement Date: The claim status is listed as \"Under review\" with a pending settlement date. It is essential to monitor the progress of the claim and ensure that it is processed in a timely manner.\n",
      "\n",
      "Overall, while the incident type of water damage is covered under Sarah's policy, it is important to review the coverage limits, deductibles, and ensure that the claim is processed accurately to receive the appropriate compensation for the loss.\n"
     ]
    }
   ],
   "source": [
    "prompt = f\"\"\"\n",
    "Using the detailed insurance claim description provided below, perform a policy check to ensure that the incident type is covered under the policy. \n",
    "Evaluate whether the policyholder meets all the necessary conditions, such as coverage limits, deductibles, and policy validity. \n",
    "The result should confirm if the policy supports the claim, and identify any potential issues or gaps in coverage that could affect the claim's outcome.\n",
    "```{response_claim}```\n",
    "\"\"\"\n",
    "response_check = get_completion(prompt)\n",
    "print(response_check)"
   ]
  }
 ],
 "metadata": {
  "kernelspec": {
   "display_name": "Python 3",
   "language": "python",
   "name": "python3"
  },
  "language_info": {
   "codemirror_mode": {
    "name": "ipython",
    "version": 3
   },
   "file_extension": ".py",
   "mimetype": "text/x-python",
   "name": "python",
   "nbconvert_exporter": "python",
   "pygments_lexer": "ipython3",
   "version": "3.10.11"
  }
 },
 "nbformat": 4,
 "nbformat_minor": 2
}
