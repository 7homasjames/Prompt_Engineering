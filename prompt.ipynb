{
 "cells": [
  {
   "cell_type": "code",
   "execution_count": 15,
   "metadata": {},
   "outputs": [],
   "source": [
    "import openai\n",
    "import os\n",
    "import asyncio\n",
    "import os\n",
    "from semantic_kernel import Kernel\n",
    "from semantic_kernel.connectors.ai.open_ai import OpenAIChatCompletion, OpenAIChatPromptExecutionSettings\n",
    "from semantic_kernel.functions import KernelArguments\n",
    "import asyncio\n",
    "from semantic_kernel.connectors.ai.chat_completion_client_base import ChatCompletionClientBase\n",
    "from semantic_kernel.prompt_template import PromptTemplateConfig, InputVariable\n",
    "from semantic_kernel.contents.chat_history import ChatHistory\n",
    "\n",
    "\n",
    "from dotenv import load_dotenv, find_dotenv\n",
    "_ = load_dotenv(find_dotenv())\n",
    "\n",
    "openai.api_key  = os.getenv('OPENAI_API_KEY')"
   ]
  },
  {
   "cell_type": "markdown",
   "metadata": {},
   "source": [
    "### Using Semantic Kernel"
   ]
  },
  {
   "cell_type": "code",
   "execution_count": 44,
   "metadata": {},
   "outputs": [],
   "source": [
    "# Function to get completion using Semantic Kernel\n",
    "async def get_completion_skernel(prompt, model=\"gpt-3.5-turbo\"):\n",
    "    kernel = Kernel()\n",
    "\n",
    "    # Add OpenAI Chat Completion Service\n",
    "    openai_service = OpenAIChatCompletion(\n",
    "        api_key=openai.api_key ,\n",
    "        ai_model_id=model\n",
    "    )\n",
    "    kernel.add_service(openai_service)\n",
    "\n",
    "    # Prepare the chat execution settings\n",
    "    chat_execution_settings = OpenAIChatPromptExecutionSettings(\n",
    "        ai_model_id=model,\n",
    "        max_tokens=1000,\n",
    "        temperature=0.7,\n",
    "        top_p=0.9\n",
    "    )\n",
    "    chat_completion_service = kernel.get_service(type=ChatCompletionClientBase)  \n",
    "    chat_history = ChatHistory()\n",
    "\n",
    "    chat_prompt_template_config = PromptTemplateConfig(\n",
    "    template=prompt,\n",
    "    name=\"grounded_response\",\n",
    "    template_format=\"semantic-kernel\",\n",
    "    input_variables=[\n",
    "        InputVariable(name=\"query_term\", description=\"The user input\", is_required=True),\n",
    "    ],\n",
    "    execution_settings=chat_execution_settings,\n",
    ")\n",
    "\n",
    "    chat_function = kernel.add_function(\n",
    "        function_name=\"ChatGPTFunc\",\n",
    "        plugin_name=\"chatGPTPlugin\",\n",
    "        prompt_template_config=chat_prompt_template_config\n",
    "    )\n",
    "    arguments = KernelArguments( query_term=prompt)\n",
    "\n",
    "    # Invoke the function with the prompt\n",
    "    result = await kernel.invoke(\n",
    "                chat_function,arguments\n",
    "            )\n",
    "\n",
    "    return result\n",
    "\n",
    "\n",
    "async def main(prompt):\n",
    "    result = await get_completion_skernel(prompt)\n",
    "    print(result)\n"
   ]
  },
  {
   "cell_type": "code",
   "execution_count": 43,
   "metadata": {},
   "outputs": [],
   "source": [
    "def get_completion(prompt, model=\"gpt-3.5-turbo\"):\n",
    "    messages = [{\"role\": \"user\", \"content\": prompt}]\n",
    "    response = openai.ChatCompletion.create(\n",
    "        model=model,\n",
    "        messages=messages,\n",
    "        temperature=.4, # this is the degree of randomness of the model's output\n",
    "    )\n",
    "    return response.choices[0].message[\"content\"]"
   ]
  },
  {
   "cell_type": "markdown",
   "metadata": {},
   "source": [
    "### Few-Shot Prompting"
   ]
  },
  {
   "cell_type": "code",
   "execution_count": 45,
   "metadata": {},
   "outputs": [
    {
     "name": "stdout",
     "output_type": "stream",
     "text": [
      "Policyholder Details:\n",
      "- Name: Sarah Johnson\n",
      "- Policy Number: 123456789\n",
      "- Coverage: Auto Insurance\n",
      "- Demographics: 35-year-old female, residing in Los Angeles, CA\n",
      "\n",
      "Claim Specifics:\n",
      "- Claim Number: AC987654\n",
      "- Date of Loss: June 15, 2021\n",
      "- Type of Loss: Auto Accident\n",
      "- Location: Intersection of Main St. and Oak Ave.\n",
      "- Description: Sarah was rear-ended by another driver while stopped at a red light, causing significant damage to her car.\n",
      "- Estimated Loss Amount: $5,000\n",
      "- Actual Loss Amount: $4,500\n",
      "- Status: Under Review\n",
      "- Settlement Date: Pending\n",
      "\n",
      "Financial Information:\n",
      "- Premium Amount: $800 annually\n",
      "- Payment History: Paid in full for the year\n",
      "- Claim History: No previous claims\n",
      "- Deductible: $500\n",
      "- Reimbursement Amount: $4,000 (after deductible)\n",
      "\n",
      "Incident Impact on Claim Process:\n",
      "The auto accident involving Sarah Johnson has prompted her to file a claim with her insurance company for coverage of the damages to her vehicle. The claim process involves verifying the details of the incident, assessing the extent of the damage, and determining the coverage and settlement amount. Sarah's policy details, including her coverage limits and deductible, play a crucial role in calculating the reimbursement amount. The specific information about the accident, such as the date, location, and description, helps the insurance company evaluate the claim and make a decision on the settlement. The incident type, in this case, an auto accident, directly influences the claim process and outcome, as it necessitates a thorough investigation of the damages and liability to provide the appropriate compensation to the policyholder.\n"
     ]
    }
   ],
   "source": [
    "text = f\"\"\"\n",
    "An insurance claim is a formal request made by a policyholder to their insurance company for \n",
    "coverage or compensation for a covered loss or policy event. The process involves gathering and processing various details, \n",
    "including the policyholder's information, such as policy number, type, coverage details, and demographics.\n",
    "Claim details include the claim number, date of loss, type of loss, location, description, estimated and actual loss amounts, \n",
    "status, and settlement date. Financial information encompasses the premium amount, payment history, claim history, deductible, \n",
    "and reimbursement amounts. For auto claims, specific details like the vehicle's VIN, make, model, year, value, and damage details are required. \n",
    "In the case of home or property claims, information about the property address, type, value, and damage details is necessary. \n",
    "Health claims involve patient information, diagnosis codes, treatment details, provider information, and payment details. \n",
    "Fraud indicators are identified through potential red flags, anomalies, and suspicious claim patterns. \n",
    "This comprehensive approach is used to evaluate the claim, determine coverage, and decide on the appropriate settlement.\n",
    "\"\"\"\n",
    "\n",
    "prompt = f\"\"\"\n",
    "Create a detailed description of an insurance claim involving a specific incident type, based on the structured information provided below. \n",
    "Ensure that the description covers all relevant aspects of the claim, including policyholder details, claim specifics, financial information, and any other pertinent data. \n",
    "The incident type should be clearly defined and integrated into the narrative, illustrating how it impacts the claim process and outcome.\n",
    "```{text}```\n",
    "\"\"\"\n",
    "\n",
    "response_claim = await main(prompt) \n"
   ]
  },
  {
   "cell_type": "markdown",
   "metadata": {},
   "source": [
    "### Zero Shot Prompting"
   ]
  },
  {
   "cell_type": "code",
   "execution_count": 34,
   "metadata": {},
   "outputs": [
    {
     "name": "stdout",
     "output_type": "stream",
     "text": [
      "Incident Type: Car Accident\n",
      "\n",
      "Policyholder Details:\n",
      "- Name: John Smith\n",
      "- Policy Number: 123456789\n",
      "- Insurance Company: ABC Insurance Co.\n",
      "- Coverage: Auto insurance with liability, collision, and comprehensive coverage\n",
      "\n",
      "Claim Specifics:\n",
      "- Date of Incident: March 15, 2021\n",
      "- Location: Intersection of Main St. and Elm St.\n",
      "- Description: John Smith was driving his car through the intersection when another driver ran a red light and collided with his vehicle. The impact caused significant damage to both cars, and John sustained minor injuries.\n",
      "\n",
      "Financial Information:\n",
      "- Cost of Repairs: $5,000 for John's car\n",
      "- Medical Expenses: $1,000 for John's injuries\n",
      "- Total Claim Amount: $6,000\n",
      "\n",
      "Claim Process and Outcome:\n",
      "- John Smith immediately contacted his insurance company, ABC Insurance Co., to report the accident and file a claim. He provided all necessary details, including the police report, photos of the damage, and medical records.\n",
      "\n",
      "- An insurance adjuster from ABC Insurance Co. was assigned to investigate the claim. The adjuster reviewed the evidence, interviewed witnesses, and assessed the extent of the damages.\n",
      "\n",
      "- Based on the policy coverage and the adjuster's findings, ABC Insurance Co. determined that John Smith was not at fault for the accident. As a result, they approved the claim and agreed to cover the cost of repairs for John's car and his medical expenses.\n",
      "\n",
      "- John Smith received a settlement check from ABC Insurance Co. for the total claim amount of $6,000. This amount covered all the expenses related to the accident, and John was able to repair his car and cover his medical bills without any out-of-pocket costs.\n",
      "\n",
      "In conclusion, the insurance claim for the car accident involving John Smith was handled efficiently and fairly by ABC Insurance Co. The policyholder's comprehensive coverage played a crucial role in ensuring that all expenses related to the accident were covered, and the outcome of the claim process was satisfactory for all parties involved.\n"
     ]
    }
   ],
   "source": [
    "prompt = f\"\"\"\n",
    "Create a detailed description of an insurance claim involving a specific incident type. The description should comprehensively \n",
    "cover all aspects of the claim, including policyholder details, claim specifics, financial information, and any other pertinent data. \n",
    "Clearly define the incident type and explain how it affects the claim process and outcome. Ensure the narrative \n",
    "is complete and informative, highlighting how each piece of information contributes to the overall evaluation and settlement of the claim.\n",
    "\"\"\"\n",
    "response_claim = await main(prompt) \n",
    "\n"
   ]
  },
  {
   "cell_type": "markdown",
   "metadata": {},
   "source": [
    "### Structured Prompting"
   ]
  },
  {
   "cell_type": "code",
   "execution_count": 35,
   "metadata": {},
   "outputs": [
    {
     "name": "stdout",
     "output_type": "stream",
     "text": [
      "The policyholder, a 45-year-old male residing in New York, NY, holds an auto insurance policy with a coverage limit of $100,000 and a deductible of $500. The policy number is 123456789, with an annual premium of $1,200, and a payment history that is up to date. There are no previous claims on record for this policyholder.\n",
      "\n",
      "On August 1, 2024, the policyholder was involved in a collision in Manhattan, NY. The incident was a rear-end collision that occurred at a traffic light intersection. The estimated loss amount is $10,000, with the actual loss amount reported as $9,500. The claim status is currently open, with the claim settlement date pending.\n",
      "\n",
      "The vehicle involved in the collision is a 2020 Honda Accord with a value of $20,000. The VIN is 1HGCM82633A004352, and the vehicle sustained damage to the rear bumper and trunk.\n",
      "\n",
      "There are no identified fraud indicators or suspicious patterns in this claim. The data quality is verified and consistent, compliant with GDPR regulations, and there is a balanced distribution of claim types with no synthetic data used.\n",
      "\n",
      "The deductible amount for this claim is $500, with the reimbursement amount pending. The insurance company will evaluate the claim details, including the loss type, location, and description, as well as the financial information provided, to determine the final settlement amount. The coverage limits and deductible will also impact the claim outcome.\n",
      "\n",
      "Overall, the structured information provided will be crucial in assessing the insurance claim involving the collision, ensuring a fair and accurate settlement for the policyholder based on the policy terms and conditions.\n"
     ]
    }
   ],
   "source": [
    "structured_info = {\n",
    "  \"Policyholder Information\": {\n",
    "    \"Policy Number\": \"123456789\",\n",
    "    \"Policy Type\": \"Auto\",\n",
    "    \"Coverage Details\": {\n",
    "      \"Limits\": \"$100,000\",\n",
    "      \"Deductibles\": \"$500\"\n",
    "    },\n",
    "    \"Demographics\": {\n",
    "      \"Age\": 45,\n",
    "      \"Gender\": \"Male\",\n",
    "      \"Location\": \"New York, NY\"\n",
    "    }\n",
    "  },\n",
    "  \"Claim Details\": {\n",
    "    \"Claim Number\": \"987654321\",\n",
    "    \"Date of Loss\": \"2024-08-01\",\n",
    "    \"Loss Type\": \"Collision\",\n",
    "    \"Loss Location\": \"Manhattan, NY\",\n",
    "    \"Loss Description\": \"Rear-end collision at a traffic light\",\n",
    "    \"Estimated Loss Amount\": \"$10,000\",\n",
    "    \"Actual Loss Amount\": \"$9,500\",\n",
    "    \"Claim Status\": \"Open\",\n",
    "    \"Claim Settlement Date\": \"Pending\"\n",
    "  },\n",
    "  \"Financial Information\": {\n",
    "    \"Premium Amount\": \"$1,200 annually\",\n",
    "    \"Payment History\": \"Up to date\",\n",
    "    \"Claim History\": \"No previous claims\",\n",
    "    \"Deductible Amount\": \"$500\",\n",
    "    \"Reimbursement Amount\": \"Pending\"\n",
    "  },\n",
    "  \"Specific Incident Information\": {\n",
    "    \"Vehicle Information\": {\n",
    "      \"VIN\": \"1HGCM82633A004352\",\n",
    "      \"Make\": \"Honda\",\n",
    "      \"Model\": \"Accord\",\n",
    "      \"Year\": 2020,\n",
    "      \"Vehicle Value\": \"$20,000\",\n",
    "      \"Damage Details\": \"Rear bumper and trunk damage\"\n",
    "    }\n",
    "  },\n",
    "  \"Fraud Indicators\": {\n",
    "    \"Red Flags\": \"None identified\",\n",
    "    \"Suspicious Patterns\": \"None identified\"\n",
    "  },\n",
    "  \"Additional Considerations\": {\n",
    "    \"Data Quality\": \"Verified and consistent\",\n",
    "    \"Data Privacy\": \"Compliant with GDPR\",\n",
    "    \"Balance of Data\": \"Balanced distribution of claim types\",\n",
    "    \"Synthetic Data\": \"No synthetic data used\"\n",
    "  }\n",
    "}\n",
    "prompt = f\"\"\"\n",
    "Create a detailed description of an insurance claim involving a collision, based on the structured information provided below. \n",
    "Clearly define the incident type and explain how it impacts the claim process and outcome. The narrative \n",
    "should be complete and informative, highlighting how each piece of information contributes to the overall evaluation and settlement of the claim.\n",
    "```{structured_info}```\n",
    "\"\"\"\n",
    "\n",
    "response_claim = await main(prompt) "
   ]
  },
  {
   "cell_type": "markdown",
   "metadata": {},
   "source": [
    "### Detailed Prompting"
   ]
  },
  {
   "cell_type": "code",
   "execution_count": 41,
   "metadata": {},
   "outputs": [
    {
     "name": "stdout",
     "output_type": "stream",
     "text": [
      "Policyholder Information:\n",
      "Policyholder: John Smith\n",
      "Policy Number: 123456789\n",
      "Policy Type: Auto Insurance\n",
      "Coverage Limits: $50,000\n",
      "Deductible: $500\n",
      "Demographics: Male, 35 years old, located in Los Angeles, CA\n",
      "\n",
      "Claim Details:\n",
      "Claim Number: 987654321\n",
      "Date of Loss: June 15, 2021\n",
      "Type of Loss: Collision\n",
      "Location: Intersection of Main St. and Elm St., Los Angeles, CA\n",
      "Description: John was involved in a collision with another vehicle at the intersection. Estimated loss amount is $10,000, actual loss amount is $9,500. Claim status is open, pending settlement date.\n",
      "\n",
      "Financial Information:\n",
      "Premium Amount: $800 annually\n",
      "Payment History: Up to date\n",
      "Previous Claims: No previous claims\n",
      "Deductible Amount: $500\n",
      "Reimbursement: $9,500 pending\n",
      "\n",
      "Specific Incident Information:\n",
      "Vehicle: 2020 Toyota Camry\n",
      "VIN: 12345678901234567\n",
      "Value: $15,000\n",
      "Damage: Front bumper and fender damage, estimated repair cost of $9,500\n",
      "\n",
      "Fraud Indicators:\n",
      "No red flags or anomalies indicating fraud were observed during the evaluation.\n",
      "\n",
      "Additional Considerations:\n",
      "Data was securely processed and adhered to all data privacy regulations. No synthetic data was used in the evaluation process.\n",
      "\n",
      "Conclusion:\n",
      "The collision incident involving John Smith's vehicle has been thoroughly evaluated, with all necessary information considered. The claim is currently open, pending settlement, and the estimated repair costs have been processed. The data used in the evaluation was accurate and compliant with regulations, ensuring a fair and efficient claims process.\n"
     ]
    }
   ],
   "source": [
    "prompt = f\"\"\"\n",
    "Policyholder Information:\n",
    "\n",
    "Start by describing the policyholder's information, including their policy number, policy type, coverage limits, deductibles, and demographics such as age, gender, and location.\n",
    "Claim Details:\n",
    "\n",
    "Next, provide details about the claim itself. Include the claim number, the date of loss, the type of loss (e.g., collision, fire, theft), the location where the loss occurred, and a brief description of the incident. Mention both the estimated and actual loss amounts, as well as the current status of the claim (e.g., open, closed, pending) and the settlement date if applicable.\n",
    "Financial Information:\n",
    "\n",
    "Outline the financial aspects of the claim. This should include the policyholder's premium amount, their payment history, and any previous claims they’ve made. Specify the deductible amount associated with the policy and any reimbursement amounts that have been processed or are pending.\n",
    "Specific Incident Information:\n",
    "\n",
    "If the claim involves a specific asset like a vehicle or property, describe this in detail. For an auto claim, include the vehicle’s VIN, make, model, year, value, and a summary of the damages. For a property claim, provide details such as the property address, type (house, apartment, etc.), value, and extent of the damage.\n",
    "Fraud Indicators:\n",
    "\n",
    "Assess the claim for any potential red flags or anomalies that might indicate fraud. Mention any patterns of suspicious claims or behaviors that were observed during the evaluation.\n",
    "Additional Considerations:\n",
    "\n",
    "Finally, discuss any additional considerations that were taken into account during the claim processing. This might include the quality and consistency of the data, adherence to data privacy and security regulations, and whether the data was balanced or if synthetic data was used.\n",
    "Conclusion:\n",
    "\n",
    "Summarize how the incident type impacts the claim process and outcome. Ensure the narrative is cohesive and informative, highlighting how each piece of information contributes to the overall evaluation and settlement of the claim and do write it as a story\n",
    "\n",
    "\"\"\"\n",
    "response_claim = await main(prompt) \n"
   ]
  },
  {
   "cell_type": "markdown",
   "metadata": {},
   "source": [
    "## Testing of Synthetic Data in different Use Cases "
   ]
  },
  {
   "cell_type": "markdown",
   "metadata": {},
   "source": [
    "### Policy Summarization"
   ]
  },
  {
   "cell_type": "code",
   "execution_count": 37,
   "metadata": {},
   "outputs": [
    {
     "name": "stdout",
     "output_type": "stream",
     "text": [
      "Summary: The insurance claim involved a car accident that occurred on May 15, 2021, resulting in $5,000 worth of damages. The policyholder, John Smith, filed the claim promptly and provided all necessary documentation. The claim was approved by the insurance company, and John received full reimbursement for the repairs.\n"
     ]
    }
   ],
   "source": [
    "\n",
    "prompt = f\"\"\"\n",
    "Based on the detailed insurance claim description provided below, create a concise summary that highlights the most important aspects of the claim. \n",
    "The summary should include the incident type, key claim details (such as dates, amounts, and status), relevant policyholder information, \n",
    "and the final outcome or resolution of the claim. The goal is to provide a clear and quick overview of the claim in a few sentences\n",
    "```{response_claim}```\n",
    "\"\"\"\n",
    "response_summary = await main(prompt) \n"
   ]
  },
  {
   "cell_type": "markdown",
   "metadata": {},
   "source": [
    "### Claim Processing"
   ]
  },
  {
   "cell_type": "code",
   "execution_count": 38,
   "metadata": {},
   "outputs": [
    {
     "name": "stdout",
     "output_type": "stream",
     "text": [
      "1. Verify the policyholder's information: Gather the policyholder's name, contact information, policy number, and any other relevant details to confirm their identity and coverage.\n",
      "\n",
      "2. Assess the incident and damages: Review the detailed description of the incident provided by the policyholder, including the date, time, location, and circumstances surrounding the claim. Evaluate the extent of the damages or loss incurred.\n",
      "\n",
      "3. Calculate the estimated loss amount: Based on the information provided, estimate the cost of repairs, replacements, or other expenses related to the claim. Consider obtaining quotes or assessments from professionals if necessary.\n",
      "\n",
      "4. Check the policy coverage and deductibles: Review the policy terms and coverage limits to determine the extent to which the claim is covered. Take note of any deductibles or limits that may apply to the claim.\n",
      "\n",
      "5. Determine the actual loss amount: Once the damages have been assessed and the policy coverage confirmed, calculate the final amount of the claim based on the actual costs incurred by the policyholder.\n",
      "\n",
      "6. Determine the claim status: Evaluate the validity of the claim and ensure that all necessary documentation and information have been provided. Determine whether the claim meets the criteria for approval or if further investigation is required.\n",
      "\n",
      "7. Finalize the claim settlement: Once all necessary information has been gathered and verified, process the claim settlement by issuing payment to the policyholder for the approved amount. Provide the policyholder with a detailed explanation of the settlement and any next steps that may be required.\n",
      "\n",
      "8. Close the claim: Once the settlement has been finalized and payment issued, close the claim file and update the policyholder's records accordingly. Ensure that all documentation related to the claim is properly filed and archived for future reference.\n"
     ]
    }
   ],
   "source": [
    "prompt = f\"\"\"\n",
    "Based on the detailed insurance claim description provided below, outline the steps involved in processing this claim. \n",
    "Include key actions such as verifying the policyholder's information, assessing the incident and damages, \n",
    "calculating the estimated and actual loss amounts, checking the policy coverage and deductibles, determining the claim status, and finalizing the claim settlement. \n",
    "The goal is to provide a clear and comprehensive sequence of actions necessary to process this claim effectively.\n",
    "```{response_claim}```\n",
    "\"\"\"\n",
    "response_processing = await main(prompt) \n"
   ]
  },
  {
   "cell_type": "markdown",
   "metadata": {},
   "source": [
    "### Policy Checking"
   ]
  },
  {
   "cell_type": "code",
   "execution_count": 42,
   "metadata": {},
   "outputs": [
    {
     "name": "stdout",
     "output_type": "stream",
     "text": [
      "I'm sorry, but I cannot perform a policy check as I do not have access to specific insurance policy information. It is recommended to contact the insurance company directly or review the policy documents to determine if the incident type described in the insurance claim is covered under the policy. Make sure to check for coverage limits, deductibles, and policy validity to ensure that the claim is eligible for reimbursement. If you have any specific questions or need assistance interpreting the policy terms, feel free to provide more details, and I'll do my best to help.\n"
     ]
    }
   ],
   "source": [
    "prompt = f\"\"\"\n",
    "Using the detailed insurance claim description provided below, perform a policy check to ensure that the incident type is covered under the policy. \n",
    "Evaluate whether the policyholder meets all the necessary conditions, such as coverage limits, deductibles, and policy validity. \n",
    "The result should confirm if the policy supports the claim, and identify any potential issues or gaps in coverage that could affect the claim's outcome.\n",
    "```{response_claim}```\n",
    "\"\"\"\n",
    "response_check = await main(prompt) \n"
   ]
  }
 ],
 "metadata": {
  "kernelspec": {
   "display_name": "Python 3",
   "language": "python",
   "name": "python3"
  },
  "language_info": {
   "codemirror_mode": {
    "name": "ipython",
    "version": 3
   },
   "file_extension": ".py",
   "mimetype": "text/x-python",
   "name": "python",
   "nbconvert_exporter": "python",
   "pygments_lexer": "ipython3",
   "version": "3.10.11"
  }
 },
 "nbformat": 4,
 "nbformat_minor": 2
}
