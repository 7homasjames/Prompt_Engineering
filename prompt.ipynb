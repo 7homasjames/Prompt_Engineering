{
 "cells": [
  {
   "cell_type": "code",
   "execution_count": 21,
   "metadata": {},
   "outputs": [],
   "source": [
    "import openai\n",
    "import os\n",
    "\n",
    "from dotenv import load_dotenv, find_dotenv\n",
    "_ = load_dotenv(find_dotenv())\n",
    "\n",
    "openai.api_key  = os.getenv('OPENAI_API_KEY')"
   ]
  },
  {
   "cell_type": "code",
   "execution_count": 22,
   "metadata": {},
   "outputs": [],
   "source": [
    "def get_completion(prompt, model=\"gpt-3.5-turbo\"):\n",
    "    messages = [{\"role\": \"user\", \"content\": prompt}]\n",
    "    response = openai.ChatCompletion.create(\n",
    "        model=model,\n",
    "        messages=messages,\n",
    "        temperature=.4, # this is the degree of randomness of the model's output\n",
    "    )\n",
    "    return response.choices[0].message[\"content\"]"
   ]
  },
  {
   "cell_type": "markdown",
   "metadata": {},
   "source": [
    "### Few-Shot Prompting"
   ]
  },
  {
   "cell_type": "code",
   "execution_count": 30,
   "metadata": {},
   "outputs": [
    {
     "name": "stdout",
     "output_type": "stream",
     "text": [
      "Policyholder Details:\n",
      "- Name: John Smith\n",
      "- Policy Number: 123456789\n",
      "- Type of Insurance: Auto Insurance\n",
      "- Coverage Details: Comprehensive coverage\n",
      "- Demographics: 35-year-old male, residing in Cityville\n",
      "\n",
      "Claim Specifics:\n",
      "- Claim Number: AC-2021-001\n",
      "- Date of Loss: January 15, 2021\n",
      "- Type of Loss: Auto accident\n",
      "- Location: Intersection of Main St. and Elm St.\n",
      "- Description: John Smith's car was rear-ended by another vehicle while stopped at a red light.\n",
      "- Estimated Loss Amount: $5,000\n",
      "- Actual Loss Amount: $4,500\n",
      "- Status: Under review\n",
      "- Settlement Date: February 10, 2021\n",
      "\n",
      "Financial Information:\n",
      "- Premium Amount: $800 annually\n",
      "- Payment History: Up to date\n",
      "- Claim History: No previous claims\n",
      "- Deductible: $500\n",
      "- Reimbursement Amount: $4,000 (after deductible)\n",
      "\n",
      "Incident Impact:\n",
      "The auto accident involving John Smith resulted in damage to his vehicle, requiring repairs. The estimated loss amount of $5,000 was initially provided, but after assessment, the actual loss amount was determined to be $4,500. John's comprehensive coverage includes coverage for damages caused by accidents, making this claim eligible for reimbursement. The deductible of $500 will be subtracted from the actual loss amount, resulting in a reimbursement amount of $4,000. The claim is currently under review, and once approved, the settlement will be processed by February 10, 2021.\n",
      "\n",
      "Overall, the incident type of an auto accident has impacted John Smith's claim process by necessitating a thorough assessment of the damage, determining coverage eligibility, and calculating the reimbursement amount based on the deductible. The structured information provided has facilitated the evaluation of the claim and will lead to a fair settlement for the policyholder.\n"
     ]
    }
   ],
   "source": [
    "text = f\"\"\"\n",
    "An insurance claim is a formal request made by a policyholder to their insurance company for \n",
    "coverage or compensation for a covered loss or policy event. The process involves gathering and processing various details, \n",
    "including the policyholder's information, such as policy number, type, coverage details, and demographics.\n",
    "Claim details include the claim number, date of loss, type of loss, location, description, estimated and actual loss amounts, \n",
    "status, and settlement date. Financial information encompasses the premium amount, payment history, claim history, deductible, \n",
    "and reimbursement amounts. For auto claims, specific details like the vehicle's VIN, make, model, year, value, and damage details are required. \n",
    "In the case of home or property claims, information about the property address, type, value, and damage details is necessary. \n",
    "Health claims involve patient information, diagnosis codes, treatment details, provider information, and payment details. \n",
    "Fraud indicators are identified through potential red flags, anomalies, and suspicious claim patterns. \n",
    "This comprehensive approach is used to evaluate the claim, determine coverage, and decide on the appropriate settlement.\n",
    "\"\"\"\n",
    "\n",
    "prompt = f\"\"\"\n",
    "Create a detailed description of an insurance claim involving a specific incident type, based on the structured information provided below. \n",
    "Ensure that the description covers all relevant aspects of the claim, including policyholder details, claim specifics, financial information, and any other pertinent data. \n",
    "The incident type should be clearly defined and integrated into the narrative, illustrating how it impacts the claim process and outcome.\n",
    "```{text}```\n",
    "\"\"\"\n",
    "response_claim = get_completion(prompt)\n",
    "print(response_claim)\n"
   ]
  },
  {
   "cell_type": "markdown",
   "metadata": {},
   "source": [
    "### Zero Shot Prompting"
   ]
  },
  {
   "cell_type": "code",
   "execution_count": 25,
   "metadata": {},
   "outputs": [
    {
     "name": "stdout",
     "output_type": "stream",
     "text": [
      "Incident Type: Car Accident\n",
      "\n",
      "Policyholder Details:\n",
      "- Name: Sarah Johnson\n",
      "- Policy Number: 123456789\n",
      "- Insurance Company: ABC Insurance Co.\n",
      "- Coverage: Comprehensive Auto Insurance\n",
      "\n",
      "Claim Specifics:\n",
      "Sarah Johnson was involved in a car accident on the highway last week. She was driving to work when another driver ran a red light and collided with her vehicle. The impact caused significant damage to Sarah's car, and she sustained minor injuries requiring medical attention. The police were called to the scene, and a report was filed documenting the details of the accident.\n",
      "\n",
      "Financial Information:\n",
      "- Cost of Repairs: $5,000\n",
      "- Medical Bills: $1,000\n",
      "- Towing Fees: $200\n",
      "- Rental Car Expenses: $300\n",
      "\n",
      "Claim Process and Outcome:\n",
      "After the accident, Sarah contacted her insurance company, ABC Insurance Co., to file a claim. She provided all the necessary information, including the police report, photos of the damage, and medical bills. An adjuster from the insurance company was assigned to her case and conducted an investigation to determine liability.\n",
      "\n",
      "Since Sarah had comprehensive auto insurance, her policy covered the damages to her vehicle as well as her medical expenses. The adjuster reviewed the evidence and determined that the other driver was at fault for running the red light. As a result, ABC Insurance Co. agreed to cover the cost of repairs, medical bills, towing fees, and rental car expenses.\n",
      "\n",
      "The total settlement amount for Sarah's claim was $6,500. This included the $5,000 for car repairs, $1,000 for medical bills, and the additional expenses for towing and rental car. ABC Insurance Co. processed the payment promptly, and Sarah was able to get her car fixed and cover her medical expenses without any out-of-pocket costs.\n",
      "\n",
      "In conclusion, the comprehensive auto insurance policy held by Sarah Johnson played a crucial role in ensuring that she was adequately covered in the event of a car accident. The thorough documentation of the incident, along with the prompt and fair evaluation by the insurance company, led to a successful settlement of the claim. This case highlights the importance of having comprehensive insurance coverage and following the proper procedures when filing a claim after an accident.\n"
     ]
    }
   ],
   "source": [
    "prompt = f\"\"\"\n",
    "Create a detailed description of an insurance claim involving a specific incident type. The description should comprehensively \n",
    "cover all aspects of the claim, including policyholder details, claim specifics, financial information, and any other pertinent data. \n",
    "Clearly define the incident type and explain how it affects the claim process and outcome. Ensure the narrative \n",
    "is complete and informative, highlighting how each piece of information contributes to the overall evaluation and settlement of the claim.\n",
    "\"\"\"\n",
    "response_claim = get_completion(prompt)\n",
    "print(response_claim)"
   ]
  },
  {
   "cell_type": "markdown",
   "metadata": {},
   "source": [
    "### Structured Prompting"
   ]
  },
  {
   "cell_type": "code",
   "execution_count": 31,
   "metadata": {},
   "outputs": [
    {
     "name": "stdout",
     "output_type": "stream",
     "text": [
      "The policyholder, a 45-year-old male from New York, NY, holds an auto insurance policy with a coverage limit of $100,000 and a deductible of $500. The incident in question occurred on August 1, 2024, in Manhattan, NY, involving a rear-end collision at a traffic light. The estimated loss amount is $10,000, with the actual loss amount reported as $9,500. The claim is currently open, with the claim settlement date pending.\n",
      "\n",
      "The financial information indicates that the policyholder pays an annual premium of $1,200, with a payment history that is up to date and no previous claims on record. The deductible amount for this claim is $500, and the reimbursement amount is pending.\n",
      "\n",
      "Specific details about the incident involve a 2020 Honda Accord with a vehicle value of $20,000. The damage is focused on the rear bumper and trunk of the vehicle. There are no identified fraud indicators or suspicious patterns in the claim.\n",
      "\n",
      "Additional considerations include verified and consistent data quality, compliance with GDPR for data privacy, a balanced distribution of claim types, and the absence of synthetic data in the evaluation process.\n",
      "\n",
      "Overall, the detailed information provided will play a crucial role in the evaluation and settlement of the claim. The policy coverage, deductible amount, loss details, financial history, and specific incident information all contribute to determining the final reimbursement amount and the resolution of the claim. The lack of fraud indicators and the adherence to data quality standards further support the legitimacy and accuracy of the claim process.\n"
     ]
    }
   ],
   "source": [
    "structured_info = {\n",
    "  \"Policyholder Information\": {\n",
    "    \"Policy Number\": \"123456789\",\n",
    "    \"Policy Type\": \"Auto\",\n",
    "    \"Coverage Details\": {\n",
    "      \"Limits\": \"$100,000\",\n",
    "      \"Deductibles\": \"$500\"\n",
    "    },\n",
    "    \"Demographics\": {\n",
    "      \"Age\": 45,\n",
    "      \"Gender\": \"Male\",\n",
    "      \"Location\": \"New York, NY\"\n",
    "    }\n",
    "  },\n",
    "  \"Claim Details\": {\n",
    "    \"Claim Number\": \"987654321\",\n",
    "    \"Date of Loss\": \"2024-08-01\",\n",
    "    \"Loss Type\": \"Collision\",\n",
    "    \"Loss Location\": \"Manhattan, NY\",\n",
    "    \"Loss Description\": \"Rear-end collision at a traffic light\",\n",
    "    \"Estimated Loss Amount\": \"$10,000\",\n",
    "    \"Actual Loss Amount\": \"$9,500\",\n",
    "    \"Claim Status\": \"Open\",\n",
    "    \"Claim Settlement Date\": \"Pending\"\n",
    "  },\n",
    "  \"Financial Information\": {\n",
    "    \"Premium Amount\": \"$1,200 annually\",\n",
    "    \"Payment History\": \"Up to date\",\n",
    "    \"Claim History\": \"No previous claims\",\n",
    "    \"Deductible Amount\": \"$500\",\n",
    "    \"Reimbursement Amount\": \"Pending\"\n",
    "  },\n",
    "  \"Specific Incident Information\": {\n",
    "    \"Vehicle Information\": {\n",
    "      \"VIN\": \"1HGCM82633A004352\",\n",
    "      \"Make\": \"Honda\",\n",
    "      \"Model\": \"Accord\",\n",
    "      \"Year\": 2020,\n",
    "      \"Vehicle Value\": \"$20,000\",\n",
    "      \"Damage Details\": \"Rear bumper and trunk damage\"\n",
    "    }\n",
    "  },\n",
    "  \"Fraud Indicators\": {\n",
    "    \"Red Flags\": \"None identified\",\n",
    "    \"Suspicious Patterns\": \"None identified\"\n",
    "  },\n",
    "  \"Additional Considerations\": {\n",
    "    \"Data Quality\": \"Verified and consistent\",\n",
    "    \"Data Privacy\": \"Compliant with GDPR\",\n",
    "    \"Balance of Data\": \"Balanced distribution of claim types\",\n",
    "    \"Synthetic Data\": \"No synthetic data used\"\n",
    "  }\n",
    "}\n",
    "prompt = f\"\"\"\n",
    "Create a detailed description of an insurance claim involving a collision, based on the structured information provided below. \n",
    "Clearly define the incident type and explain how it impacts the claim process and outcome. The narrative \n",
    "should be complete and informative, highlighting how each piece of information contributes to the overall evaluation and settlement of the claim.\n",
    "```{structured_info}```\n",
    "\"\"\"\n",
    "\n",
    "response_claim = get_completion(prompt)\n",
    "print(response_claim)"
   ]
  },
  {
   "cell_type": "markdown",
   "metadata": {},
   "source": [
    "### Detailed Prompting"
   ]
  },
  {
   "cell_type": "code",
   "execution_count": 35,
   "metadata": {},
   "outputs": [
    {
     "name": "stdout",
     "output_type": "stream",
     "text": [
      "Policyholder Information:\n",
      "\n",
      "The policyholder, John Smith, holds policy number 12345 with our insurance company. His policy type is auto insurance with coverage limits of $50,000 for property damage and $100,000 for bodily injury. He has a deductible of $500 and is a 35-year-old male residing in Los Angeles, California.\n",
      "\n",
      "Claim Details:\n",
      "\n",
      "Mr. Smith's claim number is 67890, and the date of loss was on June 15, 2021. The type of loss was a collision that occurred on the intersection of Main Street and Elm Avenue in downtown Los Angeles. The estimated loss amount was $10,000, but the actual loss amount was $8,500. The claim is currently pending, awaiting further investigation, and the settlement date is scheduled for July 30, 2021.\n",
      "\n",
      "Financial Information:\n",
      "\n",
      "Mr. Smith pays a monthly premium of $100 and has a good payment history with no previous claims. The deductible associated with his policy is $500, and a reimbursement amount of $8,500 is pending once the claim is settled.\n",
      "\n",
      "Specific Incident Information:\n",
      "\n",
      "The claim involves Mr. Smith's vehicle, a 2018 Toyota Camry with VIN number 123456789. The vehicle's value is estimated at $15,000, and the damages include a dented bumper, broken taillights, and a scratched door.\n",
      "\n",
      "Fraud Indicators:\n",
      "\n",
      "Upon evaluation, no red flags or suspicious behaviors were observed that might indicate fraud. Mr. Smith's claim appears to be legitimate and in line with his policy coverage.\n",
      "\n",
      "Additional Considerations:\n",
      "\n",
      "During the claim processing, data privacy and security regulations were strictly adhered to, ensuring the confidentiality of Mr. Smith's information. The data used for the evaluation was consistent and balanced, providing accurate insights into the claim.\n",
      "\n",
      "Conclusion:\n",
      "\n",
      "The collision incident involving Mr. Smith's vehicle has impacted the claim process, leading to a pending settlement. By analyzing the policyholder information, claim details, financial aspects, specific incident information, fraud indicators, and additional considerations, we can ensure a thorough evaluation and fair settlement for Mr. Smith's claim.\n"
     ]
    }
   ],
   "source": [
    "prompt = f\"\"\"\n",
    "Policyholder Information:\n",
    "\n",
    "Start by describing the policyholder's information, including their policy number, policy type, coverage limits, deductibles, and demographics such as age, gender, and location.\n",
    "Claim Details:\n",
    "\n",
    "Next, provide details about the claim itself. Include the claim number, the date of loss, the type of loss (e.g., collision, fire, theft), the location where the loss occurred, and a brief description of the incident. Mention both the estimated and actual loss amounts, as well as the current status of the claim (e.g., open, closed, pending) and the settlement date if applicable.\n",
    "Financial Information:\n",
    "\n",
    "Outline the financial aspects of the claim. This should include the policyholder's premium amount, their payment history, and any previous claims they’ve made. Specify the deductible amount associated with the policy and any reimbursement amounts that have been processed or are pending.\n",
    "Specific Incident Information:\n",
    "\n",
    "If the claim involves a specific asset like a vehicle or property, describe this in detail. For an auto claim, include the vehicle’s VIN, make, model, year, value, and a summary of the damages. For a property claim, provide details such as the property address, type (house, apartment, etc.), value, and extent of the damage.\n",
    "Fraud Indicators:\n",
    "\n",
    "Assess the claim for any potential red flags or anomalies that might indicate fraud. Mention any patterns of suspicious claims or behaviors that were observed during the evaluation.\n",
    "Additional Considerations:\n",
    "\n",
    "Finally, discuss any additional considerations that were taken into account during the claim processing. This might include the quality and consistency of the data, adherence to data privacy and security regulations, and whether the data was balanced or if synthetic data was used.\n",
    "Conclusion:\n",
    "\n",
    "Summarize how the incident type impacts the claim process and outcome. Ensure the narrative is cohesive and informative, highlighting how each piece of information contributes to the overall evaluation and settlement of the claim and do write it as a story\n",
    "\n",
    "\"\"\"\n",
    "response_claim = get_completion(prompt)\n",
    "print(response_claim)"
   ]
  },
  {
   "cell_type": "markdown",
   "metadata": {},
   "source": [
    "## Testing of Synthetic Data in different Use Cases "
   ]
  },
  {
   "cell_type": "markdown",
   "metadata": {},
   "source": [
    "### Policy Summarization"
   ]
  },
  {
   "cell_type": "code",
   "execution_count": 18,
   "metadata": {},
   "outputs": [
    {
     "name": "stdout",
     "output_type": "stream",
     "text": [
      "Summary:\n",
      "Policyholder Sarah Johnson filed her first homeowners insurance claim (Claim Number: 987654321) on June 15, 2021, due to water damage at her property on 123 Main Street. The estimated loss amount was $10,000, but the actual loss amounted to $12,500. The claim is currently under review, with a pending settlement date. Sarah's reimbursement amount is $11,500, with a $1,000 deductible. The incident type of water damage has led to a thorough investigation to determine the cause and extent of the damage for proper compensation.\n"
     ]
    }
   ],
   "source": [
    "\n",
    "prompt = f\"\"\"\n",
    "Based on the detailed insurance claim description provided below, create a concise summary that highlights the most important aspects of the claim. \n",
    "The summary should include the incident type, key claim details (such as dates, amounts, and status), relevant policyholder information, \n",
    "and the final outcome or resolution of the claim. The goal is to provide a clear and quick overview of the claim in a few sentences\n",
    "```{response_claim}```\n",
    "\"\"\"\n",
    "response_summary = get_completion(prompt)\n",
    "print(response_summary)"
   ]
  },
  {
   "cell_type": "markdown",
   "metadata": {},
   "source": [
    "### Claim Processing"
   ]
  },
  {
   "cell_type": "code",
   "execution_count": 19,
   "metadata": {},
   "outputs": [
    {
     "name": "stdout",
     "output_type": "stream",
     "text": [
      "Steps to Process the Insurance Claim for Sarah Johnson:\n",
      "\n",
      "1. Verify Policyholder Information:\n",
      "- Confirm Sarah Johnson's name, policy number (123456789), type of policy (Homeowners Insurance), coverage details (Property damage and liability coverage), and demographics (35-year-old female, married, two children).\n",
      "\n",
      "2. Assess the Incident and Damages:\n",
      "- Review the details of the claim, including the date of loss (June 15, 2021), type of loss (Water damage), location (123 Main Street, Anytown, USA), and description of the incident (pipe burst in the basement causing significant water damage).\n",
      "\n",
      "3. Calculate Estimated and Actual Loss Amounts:\n",
      "- Determine the estimated loss amount ($10,000) and the actual loss amount ($12,500) to assess the financial impact of the incident on Sarah Johnson.\n",
      "\n",
      "4. Check Policy Coverage and Deductibles:\n",
      "- Review Sarah's policy coverage to determine the extent of coverage for water damage and liability. Confirm the deductible amount ($1,000) that Sarah is responsible for before reimbursement.\n",
      "\n",
      "5. Determine Claim Status:\n",
      "- Evaluate the status of the claim, which is currently under review, to ensure that all necessary information and documentation have been provided for processing.\n",
      "\n",
      "6. Finalize Claim Settlement:\n",
      "- Calculate the reimbursement amount ($11,500) based on the actual loss amount, deductible, and policy coverage. Once the claim is approved, finalize the settlement and communicate the details to Sarah Johnson.\n",
      "\n",
      "7. Communicate Settlement Details:\n",
      "- Inform Sarah Johnson of the claim settlement, including the reimbursement amount, any deductible that applies, and the expected settlement date.\n",
      "\n",
      "8. Process Payment:\n",
      "- Process the payment for the approved claim settlement to reimburse Sarah Johnson for the water damage incident.\n",
      "\n",
      "9. Update Claim History:\n",
      "- Record the details of the claim, including the incident type, estimated and actual loss amounts, reimbursement amount, and settlement date, in Sarah Johnson's claim history for future reference.\n",
      "\n",
      "10. Close the Claim:\n",
      "- Once the claim settlement has been processed and communicated to Sarah Johnson, close the claim file and ensure that all necessary documentation is updated and filed accordingly.\n"
     ]
    }
   ],
   "source": [
    "prompt = f\"\"\"\n",
    "Based on the detailed insurance claim description provided below, outline the steps involved in processing this claim. \n",
    "Include key actions such as verifying the policyholder's information, assessing the incident and damages, \n",
    "calculating the estimated and actual loss amounts, checking the policy coverage and deductibles, determining the claim status, and finalizing the claim settlement. \n",
    "The goal is to provide a clear and comprehensive sequence of actions necessary to process this claim effectively.\n",
    "```{response_claim}```\n",
    "\"\"\"\n",
    "response_processing = get_completion(prompt)\n",
    "print(response_processing)"
   ]
  },
  {
   "cell_type": "markdown",
   "metadata": {},
   "source": [
    "### Policy Checking"
   ]
  },
  {
   "cell_type": "code",
   "execution_count": 20,
   "metadata": {},
   "outputs": [
    {
     "name": "stdout",
     "output_type": "stream",
     "text": [
      "Policy Check Result:\n",
      "\n",
      "Based on the provided information, Sarah Johnson's homeowners insurance policy covers property damage, which includes incidents like water damage. The incident type of water damage is typically covered under most homeowners insurance policies, so Sarah meets the necessary condition in terms of incident type.\n",
      "\n",
      "However, there are a few potential issues or gaps in coverage that could affect the claim's outcome:\n",
      "\n",
      "1. Coverage Limits: The estimated loss amount of $10,000 and the actual loss amount of $12,500 may exceed the coverage limits of Sarah's policy. It is important to check the policy's coverage limits to ensure that the full amount of the loss is covered.\n",
      "\n",
      "2. Deductible: Sarah's policy has a deductible of $1,000, which means she is responsible for paying the first $1,000 of the claim amount. The reimbursement amount of $11,500 indicates that Sarah will receive $10,500 after deducting the deductible. \n",
      "\n",
      "3. Settlement Date: The claim status is listed as \"Under review\" with a pending settlement date. It is essential to monitor the progress of the claim and ensure that it is processed in a timely manner.\n",
      "\n",
      "Overall, while the incident type of water damage is covered under Sarah's policy, it is important to review the coverage limits, deductibles, and ensure that the claim is processed accurately to receive the appropriate compensation for the loss.\n"
     ]
    }
   ],
   "source": [
    "prompt = f\"\"\"\n",
    "Using the detailed insurance claim description provided below, perform a policy check to ensure that the incident type is covered under the policy. \n",
    "Evaluate whether the policyholder meets all the necessary conditions, such as coverage limits, deductibles, and policy validity. \n",
    "The result should confirm if the policy supports the claim, and identify any potential issues or gaps in coverage that could affect the claim's outcome.\n",
    "```{response_claim}```\n",
    "\"\"\"\n",
    "response_check = get_completion(prompt)\n",
    "print(response_check)"
   ]
  }
 ],
 "metadata": {
  "kernelspec": {
   "display_name": "Python 3",
   "language": "python",
   "name": "python3"
  },
  "language_info": {
   "codemirror_mode": {
    "name": "ipython",
    "version": 3
   },
   "file_extension": ".py",
   "mimetype": "text/x-python",
   "name": "python",
   "nbconvert_exporter": "python",
   "pygments_lexer": "ipython3",
   "version": "3.10.11"
  }
 },
 "nbformat": 4,
 "nbformat_minor": 2
}
